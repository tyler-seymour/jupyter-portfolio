{
 "cells": [
  {
   "cell_type": "markdown",
   "metadata": {},
   "source": [
    "# Tyler Seymour's Portfolio\n",
    "\n",
    "## [Email](tylerseymour@protonmail.com) | [Github](https://github.com/tyler-seymour) | [LinkedIn](https://linkedin.com/in/tylerseymour1/) | [JupyterHub](https://tylerseymour.pw)\n",
    "\n",
    "This server hosts live demos of my python code in Jupyter Notebooks. Click on a project below to get started!\n",
    "\n",
    "## Python & NLP\n",
    "\n",
    "### [Computational Linguistics Notebook (\"Hacking Buddhist Texts\")](./Computational-Linguistics_Chinese-NLP-Pandas-SpaCy-ZH.ipynb)\n",
    "*Improving Part-of-Speech and Dependency Tagging of Pre-Modern Literary Chinese Texts. Modern NLP models are improved by hand-labeled linguistic annotations by a subject matter expert.*\n",
    "> - **spaCy** for part-of-speech and named entity recognition engine;\n",
    "> - **zh_core_web_sm** for modern Chinese language spaCy models and POS tags;  \n",
    "> - **Pandas** for building data structure of linguistic embeddings;\n",
    "> - **displaCy** for visualizing part-of-speech and dependency tags.  \n",
    "\n",
    "### [Network Graph Analysis Notebook (\"FleaBay\")](./FleaBay_OSINT-Fraud-Pandas-NetworkX.ipynb)\n",
    "*OSINT workflow for investigating eCommerce fraud networks. Maps buyers to sellers using publicly available feedback and reviews, allowing investigators to track fake review networks and money laundering paths between usernames.*\n",
    "> - **NetworkX** for constructing graph network and calculating shortest distance between nodes;\n",
    "> - **Pandas** for scraping and cleaning transaction reviews;\n",
    "> - **Matplotlib** for static node and edge visualization;\n",
    "> - **pyVis** for interactive network graph visualization. \n",
    "\n",
    "### [Patent Analytics Notebook (\"Techno Clusters\")](./Patent-Analytics_Topic-Modeling-Gensim-TextBlob.ipynb)\n",
    "\n",
    "⚡️ [eBay Patent Maintenance Report](./publications/eBay-Predictive-Patent-Maintenance-Report.docx) | [Patent Classification Models](./publications/Patent-Classifiers.pdf) ⚡️\n",
    "\n",
    "*Natural language processing and topic modeling techniques are used to cluster 1000 patent abstracts using latent dirichlet allocation (\"LDA\").* \n",
    "> - **Gensim** for TF-IDF and Bag-of-Words/LDA models;\n",
    "> - **TextBlob** for part-of-speech tagging and noun extraction;\n",
    "> - **pyLDAviz** for interactive intertopic distance map. \n",
    "\n",
    "## Blockchain Projects\n",
    "### [Non-Fungible Tokens (\"NFTy IP\")](https://nftyip.stackblitz.io/) \n",
    "⚡️[StackBlitz ](https://stackblitz.com/edit/nftyip) | [NFT Token Tracker](https://ropsten.etherscan.io/address/0x302e107ffc476865dd2d01545b96957f104f5cfc) | [IP Asset Schema](./IPAssetMetadata.json) ⚡️\n",
    "\n",
    "*Decentralized application for minting intellectual property licenses on the Ethereum blockchain. Issues open source (ex. Creative Commons, MIT) or proprietary IP licenses as ERC-721 non-fungible tokens that are transferable peer-to-peer. Deployed to Ropsten test network.*   \n",
    "> - **0xCert** asset management framework and smart contracts;\n",
    "> - **Flask** for serving metadata API;\n",
    "> - **NES.css** for frontend design and interface;  \n",
    "\n",
    "### [Patent Prediction Markets (\"Patent.pm\")](https://tyler-seymour.github.io/ipx-homepage/) \n",
    "⚡️[IP Gold Token](https://etherscan.io/token/0xdd85758b29b80231549a09c0803260e59b48339c) | [Patent Futures Exchange](./publications/IPX-Patent-Futures-Brochure.pdf) | [Whitepaper](./publications/IPX-Patent-Futures.pdf) | [Enterprise](./publications/Enterprise-Prediction-Markets.pdf) | [Deck](./publications/Enterprise-Prediction-Market-Slides.pdf) ⚡️  \n",
    "\n",
    "*Patent invalidation and prior art platform. Users earn IP Gold by submitting prior art that suggests an invention is not novel, or by wagering that a patent is valid or invalid. IP Gold creates an incentive for public participation in patent examination. Prediction markets provide a crowdsourced forecast of patent validity and a public incentive to increase patent quality by submitting invalidating prior art.* \n",
    "\n",
    "## Publications & Other Work Product\n",
    "\n",
    "### Copyright Infringement\n",
    "> #### 🚀 [Swarm Joinder of Anonymous Defendants in BitTorrent Litigation](./publications/Swarm-Joinder-BitTorrent-Litigation.docx)\n",
    "> #### 🚀 [Copyright Infringement using Popcorn Time](./publications/Popcorn-Time-Litigation.docx)\n",
    "\n",
    "### Public Records\n",
    "> #### 🚀 [CPRA Request for Private Email Records](./publications/California-Public-Records-Act-Request.pdf)\n",
    "> #### 🚀 [SF Marauder's Map: Police Incident Reports x Registered Private Cameras](https://tyler-seymour.github.io/SF-MauradersMap/)"
   ]
  },
  {
   "cell_type": "code",
   "execution_count": null,
   "metadata": {},
   "outputs": [],
   "source": []
  }
 ],
 "metadata": {
  "kernelspec": {
   "display_name": "Python 3",
   "language": "python",
   "name": "python3"
  },
  "language_info": {
   "codemirror_mode": {
    "name": "ipython",
    "version": 3
   },
   "file_extension": ".py",
   "mimetype": "text/x-python",
   "name": "python",
   "nbconvert_exporter": "python",
   "pygments_lexer": "ipython3",
   "version": "3.6.7"
  },
  "latex_envs": {
   "LaTeX_envs_menu_present": true,
   "autoclose": false,
   "autocomplete": true,
   "bibliofile": "biblio.bib",
   "cite_by": "apalike",
   "current_citInitial": 1,
   "eqLabelWithNumbers": true,
   "eqNumInitial": 1,
   "hotkeys": {
    "equation": "Ctrl-E",
    "itemize": "Ctrl-I"
   },
   "labels_anchors": false,
   "latex_user_defs": false,
   "report_style_numbering": false,
   "user_envs_cfg": false
  },
  "toc": {
   "base_numbering": 1,
   "nav_menu": {},
   "number_sections": false,
   "sideBar": true,
   "skip_h1_title": false,
   "title_cell": "Table of Contents",
   "title_sidebar": "Contents",
   "toc_cell": false,
   "toc_position": {},
   "toc_section_display": true,
   "toc_window_display": true
  }
 },
 "nbformat": 4,
 "nbformat_minor": 2
}
